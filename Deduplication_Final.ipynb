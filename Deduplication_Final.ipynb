{
  "nbformat": 4,
  "nbformat_minor": 0,
  "metadata": {
    "colab": {
      "name": "Deduplication_Final.ipynb",
      "provenance": []
    },
    "kernelspec": {
      "name": "python3",
      "display_name": "Python 3"
    },
    "language_info": {
      "name": "python"
    }
  },
  "cells": [
    {
      "cell_type": "code",
      "source": [
        "!pip install fuzzy-pandas"
      ],
      "metadata": {
        "colab": {
          "base_uri": "https://localhost:8080/"
        },
        "id": "i6Eue78d4xSj",
        "outputId": "829300ff-2988-4724-f05a-a4a3e6d69e98"
      },
      "execution_count": 13,
      "outputs": [
        {
          "output_type": "stream",
          "name": "stdout",
          "text": [
            "Collecting fuzzy-pandas\n",
            "  Downloading fuzzy_pandas-0.1-py3-none-any.whl (5.2 kB)\n",
            "Requirement already satisfied: pandas in /usr/local/lib/python3.7/dist-packages (from fuzzy-pandas) (1.3.5)\n",
            "Collecting csvmatch\n",
            "  Downloading csvmatch-1.22-py2.py3-none-any.whl (13 kB)\n",
            "Collecting dedupe==2.0.11\n",
            "  Downloading dedupe-2.0.11-cp37-cp37m-manylinux_2_5_x86_64.manylinux1_x86_64.manylinux_2_17_x86_64.manylinux2014_x86_64.whl (98 kB)\n",
            "\u001b[K     |████████████████████████████████| 98 kB 5.5 MB/s \n",
            "\u001b[?25hCollecting tqdm==4.62.3\n",
            "  Downloading tqdm-4.62.3-py2.py3-none-any.whl (76 kB)\n",
            "\u001b[K     |████████████████████████████████| 76 kB 2.9 MB/s \n",
            "\u001b[?25hCollecting colorama==0.4.4\n",
            "  Downloading colorama-0.4.4-py2.py3-none-any.whl (16 kB)\n",
            "Collecting jellyfish==0.9.0\n",
            "  Downloading jellyfish-0.9.0.tar.gz (132 kB)\n",
            "\u001b[K     |████████████████████████████████| 132 kB 22.2 MB/s \n",
            "\u001b[?25hCollecting doublemetaphone==1.1\n",
            "  Downloading DoubleMetaphone-1.1-cp37-cp37m-manylinux_2_5_x86_64.manylinux1_x86_64.manylinux_2_12_x86_64.manylinux2010_x86_64.whl (150 kB)\n",
            "\u001b[K     |████████████████████████████████| 150 kB 36.7 MB/s \n",
            "\u001b[?25hCollecting unidecode==1.3.2\n",
            "  Downloading Unidecode-1.3.2-py3-none-any.whl (235 kB)\n",
            "\u001b[K     |████████████████████████████████| 235 kB 47.5 MB/s \n",
            "\u001b[?25hCollecting chardet==4.0.0\n",
            "  Downloading chardet-4.0.0-py2.py3-none-any.whl (178 kB)\n",
            "\u001b[K     |████████████████████████████████| 178 kB 53.7 MB/s \n",
            "\u001b[?25hCollecting simplecosine>=1.2\n",
            "  Downloading simplecosine-1.2-py2.py3-none-any.whl (3.2 kB)\n",
            "Requirement already satisfied: numpy>=1.13 in /usr/local/lib/python3.7/dist-packages (from dedupe==2.0.11->csvmatch->fuzzy-pandas) (1.21.5)\n",
            "Collecting Levenshtein-search==1.4.5\n",
            "  Downloading Levenshtein_search-1.4.5-cp37-cp37m-manylinux_2_5_x86_64.manylinux1_x86_64.whl (71 kB)\n",
            "\u001b[K     |████████████████████████████████| 71 kB 7.6 MB/s \n",
            "\u001b[?25hCollecting dedupe-hcluster\n",
            "  Downloading dedupe_hcluster-0.3.9-cp37-cp37m-manylinux_2_5_x86_64.manylinux1_x86_64.manylinux_2_12_x86_64.manylinux2010_x86_64.whl (583 kB)\n",
            "\u001b[K     |████████████████████████████████| 583 kB 51.5 MB/s \n",
            "\u001b[?25hCollecting zope.index\n",
            "  Downloading zope.index-5.2.0-cp37-cp37m-manylinux_2_5_x86_64.manylinux1_x86_64.manylinux_2_12_x86_64.manylinux2010_x86_64.whl (105 kB)\n",
            "\u001b[K     |████████████████████████████████| 105 kB 68.3 MB/s \n",
            "\u001b[?25hCollecting haversine>=0.4.1\n",
            "  Downloading haversine-2.5.1-py2.py3-none-any.whl (6.1 kB)\n",
            "Collecting BTrees>=4.1.4\n",
            "  Downloading BTrees-4.10.0-cp37-cp37m-manylinux_2_5_x86_64.manylinux1_x86_64.manylinux_2_12_x86_64.manylinux2010_x86_64.whl (3.6 MB)\n",
            "\u001b[K     |████████████████████████████████| 3.6 MB 49.1 MB/s \n",
            "\u001b[?25hCollecting categorical-distance>=1.9\n",
            "  Downloading categorical_distance-1.9-py3-none-any.whl (3.3 kB)\n",
            "Collecting fastcluster\n",
            "  Downloading fastcluster-1.2.6-cp37-cp37m-manylinux_2_5_x86_64.manylinux1_x86_64.manylinux_2_17_x86_64.manylinux2014_x86_64.whl (194 kB)\n",
            "\u001b[K     |████████████████████████████████| 194 kB 70.3 MB/s \n",
            "\u001b[?25hCollecting rlr>=2.4.3\n",
            "  Downloading rlr-2.4.6-py2.py3-none-any.whl (6.0 kB)\n",
            "Collecting highered>=0.2.0\n",
            "  Downloading highered-0.2.1-py2.py3-none-any.whl (3.3 kB)\n",
            "Collecting dedupe-variable-datetime\n",
            "  Downloading dedupe_variable_datetime-0.1.5-py3-none-any.whl (4.8 kB)\n",
            "Requirement already satisfied: typing-extensions in /usr/local/lib/python3.7/dist-packages (from dedupe==2.0.11->csvmatch->fuzzy-pandas) (3.10.0.2)\n",
            "Collecting affinegap>=1.3\n",
            "  Downloading affinegap-1.12-cp37-cp37m-manylinux_2_5_x86_64.manylinux1_x86_64.manylinux_2_12_x86_64.manylinux2010_x86_64.whl (55 kB)\n",
            "\u001b[K     |████████████████████████████████| 55 kB 3.2 MB/s \n",
            "\u001b[?25hCollecting persistent>=4.1.0\n",
            "  Downloading persistent-4.9.0-cp37-cp37m-manylinux_2_5_x86_64.manylinux1_x86_64.manylinux_2_12_x86_64.manylinux2010_x86_64.whl (253 kB)\n",
            "\u001b[K     |████████████████████████████████| 253 kB 72.3 MB/s \n",
            "\u001b[?25hCollecting zope.interface>=5.0.0\n",
            "  Downloading zope.interface-5.4.0-cp37-cp37m-manylinux2010_x86_64.whl (251 kB)\n",
            "\u001b[K     |████████████████████████████████| 251 kB 63.5 MB/s \n",
            "\u001b[?25hCollecting pyhacrf-datamade>=0.2.0\n",
            "  Downloading pyhacrf_datamade-0.2.6-cp37-cp37m-manylinux_2_17_x86_64.manylinux2014_x86_64.whl (972 kB)\n",
            "\u001b[K     |████████████████████████████████| 972 kB 10.7 MB/s \n",
            "\u001b[?25hRequirement already satisfied: cffi in /usr/local/lib/python3.7/dist-packages (from persistent>=4.1.0->BTrees>=4.1.4->dedupe==2.0.11->csvmatch->fuzzy-pandas) (1.15.0)\n",
            "Collecting PyLBFGS>=0.1.3\n",
            "  Downloading PyLBFGS-0.2.0.14-cp37-cp37m-manylinux_2_5_x86_64.manylinux1_x86_64.manylinux_2_12_x86_64.manylinux2010_x86_64.whl (239 kB)\n",
            "\u001b[K     |████████████████████████████████| 239 kB 48.7 MB/s \n",
            "\u001b[?25hRequirement already satisfied: setuptools in /usr/local/lib/python3.7/dist-packages (from zope.interface>=5.0.0->BTrees>=4.1.4->dedupe==2.0.11->csvmatch->fuzzy-pandas) (57.4.0)\n",
            "Requirement already satisfied: pycparser in /usr/local/lib/python3.7/dist-packages (from cffi->persistent>=4.1.0->BTrees>=4.1.4->dedupe==2.0.11->csvmatch->fuzzy-pandas) (2.21)\n",
            "Collecting datetime-distance\n",
            "  Downloading datetime_distance-0.1.3-py3-none-any.whl (4.1 kB)\n",
            "Requirement already satisfied: future in /usr/local/lib/python3.7/dist-packages (from dedupe-variable-datetime->dedupe==2.0.11->csvmatch->fuzzy-pandas) (0.16.0)\n",
            "Requirement already satisfied: python-dateutil>=2.6.0 in /usr/local/lib/python3.7/dist-packages (from datetime-distance->dedupe-variable-datetime->dedupe==2.0.11->csvmatch->fuzzy-pandas) (2.8.2)\n",
            "Requirement already satisfied: six>=1.5 in /usr/local/lib/python3.7/dist-packages (from python-dateutil>=2.6.0->datetime-distance->dedupe-variable-datetime->dedupe==2.0.11->csvmatch->fuzzy-pandas) (1.15.0)\n",
            "Requirement already satisfied: pytz>=2017.3 in /usr/local/lib/python3.7/dist-packages (from pandas->fuzzy-pandas) (2018.9)\n",
            "Building wheels for collected packages: jellyfish\n",
            "  Building wheel for jellyfish (setup.py) ... \u001b[?25l\u001b[?25hdone\n",
            "  Created wheel for jellyfish: filename=jellyfish-0.9.0-cp37-cp37m-linux_x86_64.whl size=73994 sha256=32747b89373dce8e74da32efa5cc6b7b0101731ba1baea20f6e2e50c915bad54\n",
            "  Stored in directory: /root/.cache/pip/wheels/fe/99/4e/646ce766df0d070b0ef04db27aa11543e2767fda3075aec31b\n",
            "Successfully built jellyfish\n",
            "Installing collected packages: zope.interface, PyLBFGS, persistent, pyhacrf-datamade, datetime-distance, BTrees, zope.index, simplecosine, rlr, Levenshtein-search, highered, haversine, fastcluster, doublemetaphone, dedupe-variable-datetime, dedupe-hcluster, categorical-distance, affinegap, unidecode, tqdm, jellyfish, dedupe, colorama, chardet, csvmatch, fuzzy-pandas\n",
            "  Attempting uninstall: tqdm\n",
            "    Found existing installation: tqdm 4.63.0\n",
            "    Uninstalling tqdm-4.63.0:\n",
            "      Successfully uninstalled tqdm-4.63.0\n",
            "  Attempting uninstall: chardet\n",
            "    Found existing installation: chardet 3.0.4\n",
            "    Uninstalling chardet-3.0.4:\n",
            "      Successfully uninstalled chardet-3.0.4\n",
            "\u001b[31mERROR: pip's dependency resolver does not currently take into account all the packages that are installed. This behaviour is the source of the following dependency conflicts.\n",
            "requests 2.23.0 requires chardet<4,>=3.0.2, but you have chardet 4.0.0 which is incompatible.\n",
            "datascience 0.10.6 requires folium==0.2.1, but you have folium 0.8.3 which is incompatible.\u001b[0m\n",
            "Successfully installed BTrees-4.10.0 Levenshtein-search-1.4.5 PyLBFGS-0.2.0.14 affinegap-1.12 categorical-distance-1.9 chardet-4.0.0 colorama-0.4.4 csvmatch-1.22 datetime-distance-0.1.3 dedupe-2.0.11 dedupe-hcluster-0.3.9 dedupe-variable-datetime-0.1.5 doublemetaphone-1.1 fastcluster-1.2.6 fuzzy-pandas-0.1 haversine-2.5.1 highered-0.2.1 jellyfish-0.9.0 persistent-4.9.0 pyhacrf-datamade-0.2.6 rlr-2.4.6 simplecosine-1.2 tqdm-4.62.3 unidecode-1.3.2 zope.index-5.2.0 zope.interface-5.4.0\n"
          ]
        }
      ]
    },
    {
      "cell_type": "code",
      "source": [
        "import pandas as pd\n",
        "import fuzzy_pandas as fpd"
      ],
      "metadata": {
        "id": "geO1qRJA4fLt"
      },
      "execution_count": 14,
      "outputs": []
    },
    {
      "cell_type": "code",
      "source": [
        "df = pd.read_csv('dataset1.csv', sep=',' , encoding='iso-8859-1')\n",
        "df1 = pd.read_csv('dataset2.csv', sep=',',  encoding='iso-8859-1')\n",
        "df_out = pd.read_csv('labels.csv', sep=',',  encoding='iso-8859-1')"
      ],
      "metadata": {
        "id": "0LFV5_UT4jCL"
      },
      "execution_count": 4,
      "outputs": []
    },
    {
      "cell_type": "code",
      "source": [
        "df1.rename(columns = {'ï»¿\"id\"':'id'}, inplace = True)"
      ],
      "metadata": {
        "id": "Iv6VnWVv4mLT"
      },
      "execution_count": 5,
      "outputs": []
    },
    {
      "cell_type": "code",
      "source": [
        "df.drop(['venue','year'], axis=1, inplace=True)\n",
        "df1.drop(['venue','year'], axis=1, inplace=True)"
      ],
      "metadata": {
        "id": "cYtP_d0e4vXz"
      },
      "execution_count": 6,
      "outputs": []
    },
    {
      "cell_type": "code",
      "source": [
        "df['authors'].fillna(method ='ffill', inplace = True)\n",
        "df1['authors'].fillna(method ='ffill', inplace = True)"
      ],
      "metadata": {
        "id": "G30ijlyQ4wCD"
      },
      "execution_count": 7,
      "outputs": []
    },
    {
      "cell_type": "code",
      "source": [
        "results = fpd.fuzzy_merge(df, df1,\n",
        "            left_on='title',\n",
        "            right_on='title',\n",
        "            method='levenshtein',\n",
        "            threshold=0.6)"
      ],
      "metadata": {
        "id": "cJPR00ZK5B7T"
      },
      "execution_count": 15,
      "outputs": []
    },
    {
      "cell_type": "code",
      "source": [
        "results.drop(['authors','authors', 'title','title'], axis=1, inplace=True)"
      ],
      "metadata": {
        "id": "OeKcwbbM5FVD"
      },
      "execution_count": 20,
      "outputs": []
    },
    {
      "cell_type": "code",
      "source": [
        "cols = []\n",
        "count = 1\n",
        "for column in results.columns:\n",
        "    if column == 'id_dataset2':\n",
        "        cols.append(f'id_dataset2{count}')\n",
        "        count+=1\n",
        "        continue\n",
        "    cols.append(column)\n",
        "results.columns = cols"
      ],
      "metadata": {
        "id": "Tbn6MJ7Gapi4"
      },
      "execution_count": 25,
      "outputs": []
    },
    {
      "cell_type": "code",
      "source": [
        "results.rename(columns = {'id_dataset21':'id_dataset1','id_dataset22':'id_dataset2'}, inplace = True)"
      ],
      "metadata": {
        "id": "_nmNWEfcaDOr"
      },
      "execution_count": 27,
      "outputs": []
    },
    {
      "cell_type": "code",
      "source": [
        "results = results.sort_values(by=['id_dataset1'], ignore_index=True)"
      ],
      "metadata": {
        "id": "HTNgjEeQaS9m"
      },
      "execution_count": 29,
      "outputs": []
    },
    {
      "cell_type": "code",
      "source": [
        "results.head(20)"
      ],
      "metadata": {
        "colab": {
          "base_uri": "https://localhost:8080/",
          "height": 676
        },
        "id": "NosfRitZbXWI",
        "outputId": "99f0d21c-5ba2-4579-acf1-3d32a7d66167"
      },
      "execution_count": 32,
      "outputs": [
        {
          "output_type": "execute_result",
          "data": {
            "text/plain": [
              "                           id_dataset1   id_dataset2\n",
              "0                 conf/sigmod/AbadiC02  f2Lea-RN8dsJ\n",
              "1   conf/sigmod/AbadiCCCCEGHMRSSTXYZ03  dUyoEZHcDNQJ\n",
              "2   conf/sigmod/AbadiCCCCEGHMRSSTXYZ03  VuY9Y49GqXgJ\n",
              "3   conf/sigmod/AbadiCCCCEGHMRSSTXYZ03  wYwNJy4GsEYJ\n",
              "4   conf/sigmod/AbadiCCCCEGHMRSSTXYZ03  eBnT7lhV2LwJ\n",
              "5   conf/sigmod/AbadiCCCCEGHMRSSTXYZ03  1DKKwROqEeYJ\n",
              "6          conf/sigmod/AbiteboulBCMM03  AxpQwgyRyLgJ\n",
              "7          conf/sigmod/AbiteboulBCMM03  Rjb06zlxbLIJ\n",
              "8            conf/sigmod/AbiteboulCM95  DakOA4Ew-poJ\n",
              "9            conf/sigmod/AbiteboulCM95  4GT0Krd9RP0J\n",
              "10            conf/sigmod/AboulnagaC99  xnDzelm2t1QJ\n",
              "11            conf/sigmod/AboulnagaC99  WWaxLMIptTMJ\n",
              "12            conf/sigmod/AcharyaAFZ95  cHxtmO9talkJ\n",
              "13            conf/sigmod/AcharyaAFZ95  clF04MGcPSUJ\n",
              "14            conf/sigmod/AcharyaAFZ95  GOguWgH6D_UJ\n",
              "15            conf/sigmod/AcharyaAFZ95  S8NhcB21C_sJ\n",
              "16            conf/sigmod/AcharyaAFZ95  h2z51QPXcSkJ\n",
              "17            conf/sigmod/AcharyaAFZ95  ZdWKBKSoMUQJ\n",
              "18            conf/sigmod/AcharyaAFZ95  0lAHCM-lcjIJ\n",
              "19            conf/sigmod/AcharyaAFZ95  rO4-yA3tlfoJ"
            ],
            "text/html": [
              "\n",
              "  <div id=\"df-010b76dd-8435-4a1c-8ad3-e64dfd9a10c1\">\n",
              "    <div class=\"colab-df-container\">\n",
              "      <div>\n",
              "<style scoped>\n",
              "    .dataframe tbody tr th:only-of-type {\n",
              "        vertical-align: middle;\n",
              "    }\n",
              "\n",
              "    .dataframe tbody tr th {\n",
              "        vertical-align: top;\n",
              "    }\n",
              "\n",
              "    .dataframe thead th {\n",
              "        text-align: right;\n",
              "    }\n",
              "</style>\n",
              "<table border=\"1\" class=\"dataframe\">\n",
              "  <thead>\n",
              "    <tr style=\"text-align: right;\">\n",
              "      <th></th>\n",
              "      <th>id_dataset1</th>\n",
              "      <th>id_dataset2</th>\n",
              "    </tr>\n",
              "  </thead>\n",
              "  <tbody>\n",
              "    <tr>\n",
              "      <th>0</th>\n",
              "      <td>conf/sigmod/AbadiC02</td>\n",
              "      <td>f2Lea-RN8dsJ</td>\n",
              "    </tr>\n",
              "    <tr>\n",
              "      <th>1</th>\n",
              "      <td>conf/sigmod/AbadiCCCCEGHMRSSTXYZ03</td>\n",
              "      <td>dUyoEZHcDNQJ</td>\n",
              "    </tr>\n",
              "    <tr>\n",
              "      <th>2</th>\n",
              "      <td>conf/sigmod/AbadiCCCCEGHMRSSTXYZ03</td>\n",
              "      <td>VuY9Y49GqXgJ</td>\n",
              "    </tr>\n",
              "    <tr>\n",
              "      <th>3</th>\n",
              "      <td>conf/sigmod/AbadiCCCCEGHMRSSTXYZ03</td>\n",
              "      <td>wYwNJy4GsEYJ</td>\n",
              "    </tr>\n",
              "    <tr>\n",
              "      <th>4</th>\n",
              "      <td>conf/sigmod/AbadiCCCCEGHMRSSTXYZ03</td>\n",
              "      <td>eBnT7lhV2LwJ</td>\n",
              "    </tr>\n",
              "    <tr>\n",
              "      <th>5</th>\n",
              "      <td>conf/sigmod/AbadiCCCCEGHMRSSTXYZ03</td>\n",
              "      <td>1DKKwROqEeYJ</td>\n",
              "    </tr>\n",
              "    <tr>\n",
              "      <th>6</th>\n",
              "      <td>conf/sigmod/AbiteboulBCMM03</td>\n",
              "      <td>AxpQwgyRyLgJ</td>\n",
              "    </tr>\n",
              "    <tr>\n",
              "      <th>7</th>\n",
              "      <td>conf/sigmod/AbiteboulBCMM03</td>\n",
              "      <td>Rjb06zlxbLIJ</td>\n",
              "    </tr>\n",
              "    <tr>\n",
              "      <th>8</th>\n",
              "      <td>conf/sigmod/AbiteboulCM95</td>\n",
              "      <td>DakOA4Ew-poJ</td>\n",
              "    </tr>\n",
              "    <tr>\n",
              "      <th>9</th>\n",
              "      <td>conf/sigmod/AbiteboulCM95</td>\n",
              "      <td>4GT0Krd9RP0J</td>\n",
              "    </tr>\n",
              "    <tr>\n",
              "      <th>10</th>\n",
              "      <td>conf/sigmod/AboulnagaC99</td>\n",
              "      <td>xnDzelm2t1QJ</td>\n",
              "    </tr>\n",
              "    <tr>\n",
              "      <th>11</th>\n",
              "      <td>conf/sigmod/AboulnagaC99</td>\n",
              "      <td>WWaxLMIptTMJ</td>\n",
              "    </tr>\n",
              "    <tr>\n",
              "      <th>12</th>\n",
              "      <td>conf/sigmod/AcharyaAFZ95</td>\n",
              "      <td>cHxtmO9talkJ</td>\n",
              "    </tr>\n",
              "    <tr>\n",
              "      <th>13</th>\n",
              "      <td>conf/sigmod/AcharyaAFZ95</td>\n",
              "      <td>clF04MGcPSUJ</td>\n",
              "    </tr>\n",
              "    <tr>\n",
              "      <th>14</th>\n",
              "      <td>conf/sigmod/AcharyaAFZ95</td>\n",
              "      <td>GOguWgH6D_UJ</td>\n",
              "    </tr>\n",
              "    <tr>\n",
              "      <th>15</th>\n",
              "      <td>conf/sigmod/AcharyaAFZ95</td>\n",
              "      <td>S8NhcB21C_sJ</td>\n",
              "    </tr>\n",
              "    <tr>\n",
              "      <th>16</th>\n",
              "      <td>conf/sigmod/AcharyaAFZ95</td>\n",
              "      <td>h2z51QPXcSkJ</td>\n",
              "    </tr>\n",
              "    <tr>\n",
              "      <th>17</th>\n",
              "      <td>conf/sigmod/AcharyaAFZ95</td>\n",
              "      <td>ZdWKBKSoMUQJ</td>\n",
              "    </tr>\n",
              "    <tr>\n",
              "      <th>18</th>\n",
              "      <td>conf/sigmod/AcharyaAFZ95</td>\n",
              "      <td>0lAHCM-lcjIJ</td>\n",
              "    </tr>\n",
              "    <tr>\n",
              "      <th>19</th>\n",
              "      <td>conf/sigmod/AcharyaAFZ95</td>\n",
              "      <td>rO4-yA3tlfoJ</td>\n",
              "    </tr>\n",
              "  </tbody>\n",
              "</table>\n",
              "</div>\n",
              "      <button class=\"colab-df-convert\" onclick=\"convertToInteractive('df-010b76dd-8435-4a1c-8ad3-e64dfd9a10c1')\"\n",
              "              title=\"Convert this dataframe to an interactive table.\"\n",
              "              style=\"display:none;\">\n",
              "        \n",
              "  <svg xmlns=\"http://www.w3.org/2000/svg\" height=\"24px\"viewBox=\"0 0 24 24\"\n",
              "       width=\"24px\">\n",
              "    <path d=\"M0 0h24v24H0V0z\" fill=\"none\"/>\n",
              "    <path d=\"M18.56 5.44l.94 2.06.94-2.06 2.06-.94-2.06-.94-.94-2.06-.94 2.06-2.06.94zm-11 1L8.5 8.5l.94-2.06 2.06-.94-2.06-.94L8.5 2.5l-.94 2.06-2.06.94zm10 10l.94 2.06.94-2.06 2.06-.94-2.06-.94-.94-2.06-.94 2.06-2.06.94z\"/><path d=\"M17.41 7.96l-1.37-1.37c-.4-.4-.92-.59-1.43-.59-.52 0-1.04.2-1.43.59L10.3 9.45l-7.72 7.72c-.78.78-.78 2.05 0 2.83L4 21.41c.39.39.9.59 1.41.59.51 0 1.02-.2 1.41-.59l7.78-7.78 2.81-2.81c.8-.78.8-2.07 0-2.86zM5.41 20L4 18.59l7.72-7.72 1.47 1.35L5.41 20z\"/>\n",
              "  </svg>\n",
              "      </button>\n",
              "      \n",
              "  <style>\n",
              "    .colab-df-container {\n",
              "      display:flex;\n",
              "      flex-wrap:wrap;\n",
              "      gap: 12px;\n",
              "    }\n",
              "\n",
              "    .colab-df-convert {\n",
              "      background-color: #E8F0FE;\n",
              "      border: none;\n",
              "      border-radius: 50%;\n",
              "      cursor: pointer;\n",
              "      display: none;\n",
              "      fill: #1967D2;\n",
              "      height: 32px;\n",
              "      padding: 0 0 0 0;\n",
              "      width: 32px;\n",
              "    }\n",
              "\n",
              "    .colab-df-convert:hover {\n",
              "      background-color: #E2EBFA;\n",
              "      box-shadow: 0px 1px 2px rgba(60, 64, 67, 0.3), 0px 1px 3px 1px rgba(60, 64, 67, 0.15);\n",
              "      fill: #174EA6;\n",
              "    }\n",
              "\n",
              "    [theme=dark] .colab-df-convert {\n",
              "      background-color: #3B4455;\n",
              "      fill: #D2E3FC;\n",
              "    }\n",
              "\n",
              "    [theme=dark] .colab-df-convert:hover {\n",
              "      background-color: #434B5C;\n",
              "      box-shadow: 0px 1px 3px 1px rgba(0, 0, 0, 0.15);\n",
              "      filter: drop-shadow(0px 1px 2px rgba(0, 0, 0, 0.3));\n",
              "      fill: #FFFFFF;\n",
              "    }\n",
              "  </style>\n",
              "\n",
              "      <script>\n",
              "        const buttonEl =\n",
              "          document.querySelector('#df-010b76dd-8435-4a1c-8ad3-e64dfd9a10c1 button.colab-df-convert');\n",
              "        buttonEl.style.display =\n",
              "          google.colab.kernel.accessAllowed ? 'block' : 'none';\n",
              "\n",
              "        async function convertToInteractive(key) {\n",
              "          const element = document.querySelector('#df-010b76dd-8435-4a1c-8ad3-e64dfd9a10c1');\n",
              "          const dataTable =\n",
              "            await google.colab.kernel.invokeFunction('convertToInteractive',\n",
              "                                                     [key], {});\n",
              "          if (!dataTable) return;\n",
              "\n",
              "          const docLinkHtml = 'Like what you see? Visit the ' +\n",
              "            '<a target=\"_blank\" href=https://colab.research.google.com/notebooks/data_table.ipynb>data table notebook</a>'\n",
              "            + ' to learn more about interactive tables.';\n",
              "          element.innerHTML = '';\n",
              "          dataTable['output_type'] = 'display_data';\n",
              "          await google.colab.output.renderOutput(dataTable, element);\n",
              "          const docLink = document.createElement('div');\n",
              "          docLink.innerHTML = docLinkHtml;\n",
              "          element.appendChild(docLink);\n",
              "        }\n",
              "      </script>\n",
              "    </div>\n",
              "  </div>\n",
              "  "
            ]
          },
          "metadata": {},
          "execution_count": 32
        }
      ]
    },
    {
      "cell_type": "code",
      "source": [
        "results.to_csv('deduplication_output.csv')"
      ],
      "metadata": {
        "id": "Q5-Lek-UYrpS"
      },
      "execution_count": 33,
      "outputs": []
    },
    {
      "cell_type": "code",
      "source": [
        ""
      ],
      "metadata": {
        "id": "nU2DsTXJZOao"
      },
      "execution_count": null,
      "outputs": []
    }
  ]
}